{
 "cells": [
  {
   "cell_type": "code",
   "execution_count": null,
   "metadata": {},
   "outputs": [],
   "source": [
    "import matplotlib.pyplot as plt\n",
    "import pandas as pd\n",
    "import seaborn as sns\n",
    "import matplotlib.gridspec as gridspec\n",
    "\n",
    "from qmlhep.config import results_path, figures_path\n",
    "# This will load plot configuration & style\n",
    "from qmlhep.utils.plot_results import *"
   ]
  },
  {
   "cell_type": "markdown",
   "metadata": {},
   "source": [
    "## Kmeans Results\n",
    "\n",
    "This notebook will plot the best performing VQC on the kmeans dataset.\n",
    "\n",
    "Author: Miguel Caçador Peixoto"
   ]
  },
  {
   "cell_type": "markdown",
   "metadata": {},
   "source": [
    "# "
   ]
  },
  {
   "cell_type": "markdown",
   "metadata": {},
   "source": [
    "#### Load Data"
   ]
  },
  {
   "cell_type": "code",
   "execution_count": null,
   "metadata": {},
   "outputs": [],
   "source": [
    "df = pd.read_csv(join(results_path, \"kmeans_results.csv\"))\n",
    "\n",
    "# Replace regular with ReguLar and kmeans with KMeans on regime column\n",
    "df[\"regime\"] = df[\"regime\"].str.replace(\"regular\", \"Regular\")\n",
    "df[\"regime\"] = df[\"regime\"].str.replace(\"kmeans\", \"KMeans\")\n",
    "df"
   ]
  },
  {
   "cell_type": "markdown",
   "metadata": {},
   "source": [
    "#### Plot Results"
   ]
  },
  {
   "cell_type": "code",
   "execution_count": null,
   "metadata": {},
   "outputs": [],
   "source": [
    "fig = plt.figure(figsize=(17, 17))\n",
    "\n",
    "sns.set_style(\"darkgrid\")\n",
    "\n",
    "# Create a grid of 2x2\n",
    "gs = gridspec.GridSpec(4, 4)\n",
    "ax_qml = plt.subplot(gs[:2, :2])\n",
    "ax_svm = plt.subplot(gs[:2, 2:])\n",
    "ax_lr = plt.subplot(gs[2:4, 1:3])\n",
    "\n",
    "# Plot QML results\n",
    "sns.lineplot(x=\"n_datapoints\", y=\"auc\", hue=\"regime\",  data=df[df['model'] == 'qml'], ax=ax_qml, markers=True,\n",
    "                    dashes=True,\n",
    "                    markersize=8,\n",
    "                    linewidth=2,)\n",
    "\n",
    "# Plot SVM results\n",
    "sns.lineplot(x=\"n_datapoints\", y=\"auc\", hue=\"regime\",  data=df[df['model'] == 'qml'], ax=ax_svm,\n",
    "                    dashes=True,\n",
    "                    markersize=8,\n",
    "                    linewidth=2,)\n",
    "\n",
    "# Plot Logistic Regression results\n",
    "sns.lineplot(x=\"n_datapoints\", y=\"auc\", hue=\"regime\",  data=df[df['model'] == 'qml'], ax=ax_lr,\n",
    "                    dashes=True,\n",
    "                    markersize=8,\n",
    "                    linewidth=2,)\n",
    "\n",
    "# Set titles\n",
    "ax_svm.set_title(\"SVM\", fontsize=MEDIUM_SIZE)\n",
    "ax_qml.set_title(\"QML\", fontsize=MEDIUM_SIZE)\n",
    "ax_lr.set_title(\"Log. Reg.\", fontsize=MEDIUM_SIZE)\n",
    "\n",
    "# Share y\n",
    "ax_qml.set_ylim(0.65, 0.9)\n",
    "ax_svm.set_ylim(0.65, 0.9)\n",
    "ax_lr.set_ylim(0.65, 0.9)\n",
    "\n",
    "# Set x labels and ticks\n",
    "for ax in [ax_qml, ax_svm, ax_lr]:\n",
    "    ax.set_xlabel(\"#Datapoints\", fontsize=MEDIUM_SIZE)\n",
    "    ax.set_ylabel(\"AUC Score\", fontsize=MEDIUM_SIZE)\n",
    "    ax.legend(fontsize=LEGEND_SIZE)\n",
    "    ax.tick_params(axis=\"both\", which=\"major\", labelsize=TICK_SIZE)\n",
    "\n",
    "plt.tight_layout()\n",
    "plt.savefig(join(figures_path, \"kmeans_study_results.pdf\"))"
   ]
  },
  {
   "cell_type": "code",
   "execution_count": null,
   "metadata": {},
   "outputs": [],
   "source": []
  }
 ],
 "metadata": {
  "kernelspec": {
   "display_name": "Python 3.9.14 ('.env': venv)",
   "language": "python",
   "name": "python3"
  },
  "language_info": {
   "codemirror_mode": {
    "name": "ipython",
    "version": 3
   },
   "file_extension": ".py",
   "mimetype": "text/x-python",
   "name": "python",
   "nbconvert_exporter": "python",
   "pygments_lexer": "ipython3",
   "version": "3.9.14"
  },
  "orig_nbformat": 4,
  "vscode": {
   "interpreter": {
    "hash": "9a79168954febbe386e45b0144a4e83e0e98e6df6e455d94ba470647bc8efc3c"
   }
  }
 },
 "nbformat": 4,
 "nbformat_minor": 2
}
