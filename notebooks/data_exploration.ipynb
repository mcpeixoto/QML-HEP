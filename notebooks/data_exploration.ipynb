{
 "authors": [
  {
   "name": "Miguel Caçador Peixoto"
  }
 ],
 "cells": [
  {
   "cell_type": "code",
   "execution_count": null,
   "metadata": {},
   "outputs": [],
   "source": [
    "import pandas as pd\n",
    "import numpy as np\n",
    "import glob\n",
    "import matplotlib.pyplot as plt\n",
    "from os.path import join\n",
    "from tqdm.notebook import tqdm\n",
    "import os\n",
    "from os.path import basename\n",
    "import time\n",
    "\n",
    "from qmlhep.config import processed_data_path, raw_data_path, signal_used\n",
    "\n",
    "# Remove warnings\n",
    "import warnings\n",
    "warnings.filterwarnings(\"ignore\")"
   ]
  },
  {
   "cell_type": "markdown",
   "metadata": {},
   "source": [
    "# Data Exploration Notebook\n",
    "\n",
    "This notebook explores and plots the histograms of the data, for each feature, after the data-preprocessing step.\n",
    "\n",
    "Author: Miguel Caçador Peixoto"
   ]
  },
  {
   "cell_type": "code",
   "execution_count": null,
   "metadata": {},
   "outputs": [],
   "source": [
    "bins = 50\n",
    "num_cols = 4\n",
    "\n",
    "# Load the pre-processed data\n",
    "data = pd.concat([pd.read_hdf(join(processed_data_path,  \"bkg.h5\"), index_col=0), \\\n",
    "        pd.read_hdf(join(processed_data_path, signal_used), index_col=0)])\n",
    "features = data.columns[:-3]\n",
    "\n",
    "# Divide into signal and background\n",
    "signal = data[data[\"label\"] == 1]\n",
    "background = data[data[\"label\"] == 0]\n",
    "\n",
    "# Ignore irrelevant features such as 'name' and 'weights' in\n",
    "# the plotting of the data\n",
    "features  = list(signal.columns)\n",
    "for x in ['name', 'weights', 'label']: \n",
    "    features.remove(x)\n",
    "\n",
    "# Normalize monte carlo weights\n",
    "background['weights'] = (background['weights'] / background['weights'].sum()) * background['weights'].shape[0] / 2\n",
    "signal['weights'] = (signal['weights'] / signal['weights'].sum()) * signal['weights'].shape[0] / 2\n",
    "\n",
    "## Plot\n",
    "num_rows = int(np.ceil((len(list(signal.columns)) - 1) / num_cols)) -1\n",
    "fig, ax = plt.subplots(num_rows, num_cols, figsize=(40, 60))\n",
    "i= 0\n",
    "\n",
    "for x in tqdm(features, total=len(features), desc=\"Processing...\"):\n",
    "    row, col = int(i/num_cols), i%num_cols\n",
    "    i +=1\n",
    "\n",
    "    # Define histogram range\n",
    "    hist_min = min(signal[x].min(), background[x].min())\n",
    "    hist_max = max(signal[x].max(), background[x].max())\n",
    "    hist_range = (hist_min, hist_max)\n",
    "\n",
    "    # Plot histograms of the background and signal data        \n",
    "    ax[row, col].hist(background[x], bins=bins, alpha=0.5, label='Background', weights=background['weights'], range=hist_range)\n",
    "    ax[row, col].hist(signal[x], bins=bins, alpha=0.5, label='Sinal', weights=signal['weights'], range=hist_range)\n",
    "\n",
    "    ax[row, col].set_title(x)\n",
    "    ax[row, col].set_yscale('log')        \n",
    "    ax[row, col].autoscale(enable=True) \n",
    "    ax[row, col].legend()\n",
    "\n",
    "fig.tight_layout()\n",
    "plt.show()"
   ]
  }
 ],
 "metadata": {
  "kernelspec": {
   "display_name": "Python 3.9.14 ('.env': venv)",
   "language": "python",
   "name": "python3"
  },
  "language_info": {
   "codemirror_mode": {
    "name": "ipython",
    "version": 3
   },
   "file_extension": ".py",
   "mimetype": "text/x-python",
   "name": "python",
   "nbconvert_exporter": "python",
   "pygments_lexer": "ipython3",
   "version": "3.9.14"
  },
  "orig_nbformat": 4,
  "vscode": {
   "interpreter": {
    "hash": "9a79168954febbe386e45b0144a4e83e0e98e6df6e455d94ba470647bc8efc3c"
   }
  }
 },
 "nbformat": 4,
 "nbformat_minor": 2,
 "title": "Data Exploration"
}
