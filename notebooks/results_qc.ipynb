{
 "cells": [
  {
   "cell_type": "code",
   "execution_count": null,
   "metadata": {},
   "outputs": [],
   "source": [
    "from tqdm.notebook import tqdm\n",
    "from os.path import join\n",
    "import pickle\n",
    "from pennylane import numpy as np\n",
    "from sklearn.metrics import roc_auc_score, roc_curve\n",
    "import matplotlib.pyplot as plt\n",
    "from glob import glob\n",
    "import seaborn as sns\n",
    "import pandas as pd\n",
    "\n",
    "from qmlhep.utils.plot_results import Painter\n",
    "from qmlhep.utils.helper import GridSearch\n",
    "from qmlhep.config import results_path, analisys_results_path, figures_path, qc_results_path"
   ]
  },
  {
   "cell_type": "markdown",
   "metadata": {},
   "source": [
    "# Result analisys for the quantum computer performance\n",
    "\n",
    "This notebook will plot the ROC obtained using the best set of HP on a real quantum computer.\n",
    "\n",
    "Author: Miguel Caçador Peixoto"
   ]
  },
  {
   "cell_type": "code",
   "execution_count": null,
   "metadata": {},
   "outputs": [],
   "source": [
    "# The best performant VQC was given by Optuna\n",
    "model = \"OptunaModel\""
   ]
  },
  {
   "cell_type": "markdown",
   "metadata": {},
   "source": [
    "# Validation data"
   ]
  },
  {
   "cell_type": "code",
   "execution_count": null,
   "metadata": {},
   "outputs": [],
   "source": [
    "painter = Painter(use_test_data=False)\n",
    "painter.plot_qc(model)"
   ]
  },
  {
   "cell_type": "markdown",
   "metadata": {},
   "source": [
    "# Test data"
   ]
  },
  {
   "cell_type": "code",
   "execution_count": null,
   "metadata": {},
   "outputs": [],
   "source": [
    "painter = Painter(use_test_data=True)\n",
    "painter.plot_qc(model)"
   ]
  }
 ],
 "metadata": {
  "kernelspec": {
   "display_name": "Python 3.9.14 ('.env': venv)",
   "language": "python",
   "name": "python3"
  },
  "language_info": {
   "codemirror_mode": {
    "name": "ipython",
    "version": 3
   },
   "file_extension": ".py",
   "mimetype": "text/x-python",
   "name": "python",
   "nbconvert_exporter": "python",
   "pygments_lexer": "ipython3",
   "version": "3.9.14"
  },
  "orig_nbformat": 4,
  "vscode": {
   "interpreter": {
    "hash": "9a79168954febbe386e45b0144a4e83e0e98e6df6e455d94ba470647bc8efc3c"
   }
  }
 },
 "nbformat": 4,
 "nbformat_minor": 2
}
